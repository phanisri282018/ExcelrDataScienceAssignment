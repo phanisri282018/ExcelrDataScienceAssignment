{
 "cells": [
  {
   "cell_type": "markdown",
   "id": "b6732ff1-57ef-4132-b601-cb357cfa734f",
   "metadata": {},
   "source": [
    "# 1. Prime Number"
   ]
  },
  {
   "cell_type": "code",
   "execution_count": 1,
   "id": "26fe3fc6-8a51-472a-91b3-52e4441c68d7",
   "metadata": {},
   "outputs": [
    {
     "name": "stdin",
     "output_type": "stream",
     "text": [
      "Enter a number:  4\n"
     ]
    },
    {
     "name": "stdout",
     "output_type": "stream",
     "text": [
      "4 is not a prime number\n"
     ]
    }
   ],
   "source": [
    "def is_prime(n, i=2):\n",
    "    if n <= 2:\n",
    "        return n == 2\n",
    "    if n % i == 0:\n",
    "        return False\n",
    "    if i * i > n:\n",
    "        return True\n",
    "    return is_prime(n, i + 1)\n",
    "\n",
    "\n",
    "number = int(input(\"Enter a number: \"))\n",
    "if is_prime(number):\n",
    "    print(number, \"is a prime number\")\n",
    "else:\n",
    "    print(number, \"is not a prime number\")\n"
   ]
  },
  {
   "cell_type": "markdown",
   "id": "608444e8-8ace-4c66-a0c2-094aa89f2790",
   "metadata": {},
   "source": [
    "# 2.Product of Random Numbers"
   ]
  },
  {
   "cell_type": "code",
   "execution_count": 3,
   "id": "27ffb532-90f1-4ce2-bb2f-68478f7d6fc0",
   "metadata": {},
   "outputs": [
    {
     "name": "stdin",
     "output_type": "stream",
     "text": [
      "What is the product of 4 and 10?  6\n"
     ]
    },
    {
     "name": "stdout",
     "output_type": "stream",
     "text": [
      "Incorrect. The correct answer is: 40\n"
     ]
    }
   ],
   "source": [
    "import random\n",
    "def generate_numbers():\n",
    "    num1 = random.randint(1, 10)\n",
    "    num2 = random.randint(1, 10)\n",
    "    return num1, num2\n",
    "\n",
    "def main():\n",
    "    num1, num2 = generate_numbers()\n",
    "    product = num1 * num2\n",
    "\n",
    "    user_answer = int(input(f\"What is the product of {num1} and {num2}? \"))\n",
    "\n",
    "    if user_answer == product:\n",
    "        print(\"Correct! Well done.\")\n",
    "    else:\n",
    "        print(\"Incorrect. The correct answer is:\", product)\n",
    "\n",
    "if __name__ == \"__main__\":\n",
    "    main()\n"
   ]
  },
  {
   "cell_type": "markdown",
   "id": "830da54e-b31a-474a-afdb-1d8156c1c8cc",
   "metadata": {},
   "source": [
    "# 3. Squares of Even/Odd Numbers"
   ]
  },
  {
   "cell_type": "code",
   "execution_count": 4,
   "id": "5d5b392a-d9e9-41cd-8485-00d8d742e553",
   "metadata": {},
   "outputs": [
    {
     "name": "stdout",
     "output_type": "stream",
     "text": [
      "10000\n",
      "10404\n",
      "10816\n",
      "11236\n",
      "11664\n",
      "12100\n",
      "12544\n",
      "12996\n",
      "13456\n",
      "13924\n",
      "14400\n",
      "14884\n",
      "15376\n",
      "15876\n",
      "16384\n",
      "16900\n",
      "17424\n",
      "17956\n",
      "18496\n",
      "19044\n",
      "19600\n",
      "20164\n",
      "20736\n",
      "21316\n",
      "21904\n",
      "22500\n",
      "23104\n",
      "23716\n",
      "24336\n",
      "24964\n",
      "25600\n",
      "26244\n",
      "26896\n",
      "27556\n",
      "28224\n",
      "28900\n",
      "29584\n",
      "30276\n",
      "30976\n",
      "31684\n",
      "32400\n",
      "33124\n",
      "33856\n",
      "34596\n",
      "35344\n",
      "36100\n",
      "36864\n",
      "37636\n",
      "38416\n",
      "39204\n",
      "40000\n"
     ]
    }
   ],
   "source": [
    "def print_even_squares(start, end):\n",
    "    for num in range(start, end + 1):\n",
    "        if num % 2 == 0:\n",
    "            print(num ** 2)\n",
    "\n",
    "#range\n",
    "start_range = 100\n",
    "end_range = 200\n",
    "\n",
    "#  squares of even numbers within range\n",
    "print_even_squares(start_range, end_range)"
   ]
  },
  {
   "cell_type": "markdown",
   "id": "7a81ee98-f853-4af7-9094-9ff5dffb7c74",
   "metadata": {},
   "source": [
    "\n",
    "# 4.write a program to count the number of words in a given text."
   ]
  },
  {
   "cell_type": "code",
   "execution_count": 7,
   "id": "baede49e-7bc1-489c-8dbb-cfe828fc9b88",
   "metadata": {},
   "outputs": [
    {
     "name": "stdin",
     "output_type": "stream",
     "text": [
      "Enter the text:  my name is phani sree thota\n"
     ]
    },
    {
     "name": "stdout",
     "output_type": "stream",
     "text": [
      "Number of words: 6\n"
     ]
    }
   ],
   "source": [
    "def count_words(text):\n",
    "    # Split the text into words\n",
    "    words = text.split()\n",
    "    # Return the count of words\n",
    "    return len(words)\n",
    "\n",
    "# main usage \n",
    "text = input(\"Enter the text: \")\n",
    "word_count = count_words(text)\n",
    "print(\"Number of words:\", word_count)"
   ]
  },
  {
   "cell_type": "markdown",
   "id": "f5c8fb40-8eb4-43dc-8d36-dbe96cb05489",
   "metadata": {},
   "source": [
    "\n",
    "# CHECK FOR PALINDROME "
   ]
  },
  {
   "cell_type": "code",
   "execution_count": 10,
   "id": "1480dfdb-43af-46e1-8fc3-581eb3580b3c",
   "metadata": {},
   "outputs": [
    {
     "name": "stdout",
     "output_type": "stream",
     "text": [
      "'company' is a palindrome: False\n",
      "'world' is a palindrome: False\n",
      "'madam' is a palindrome: True\n",
      "'data' is a palindrome: False\n",
      "'science' is a palindrome: False\n"
     ]
    }
   ],
   "source": [
    "def is_palindrome(string):\n",
    "    # Convert the string to lowercase for case-insensitive comparison\n",
    "    string = string.lower()\n",
    "    # Remove non-alphanumeric characters from the string\n",
    "    string = ''.join(char for char in string if char.isalnum())\n",
    "    # Check if the string is equal to its reverse\n",
    "    return string == string[::-1]\n",
    "\n",
    "# Test the function\n",
    "def main():\n",
    "    test_strings = [\"company\", \"world\",\"madam\", \"data\", \"science\"]\n",
    "    for string in test_strings:\n",
    "        print(f\"'{string}' is a palindrome:\", is_palindrome(string))\n",
    "\n",
    "if __name__ == \"__main__\":\n",
    "    main()"
   ]
  },
  {
   "cell_type": "code",
   "execution_count": null,
   "id": "b71ede3a-1afa-4c7e-ba3d-c65019c90642",
   "metadata": {},
   "outputs": [],
   "source": []
  }
 ],
 "metadata": {
  "kernelspec": {
   "display_name": "Python 3 (ipykernel)",
   "language": "python",
   "name": "python3"
  },
  "language_info": {
   "codemirror_mode": {
    "name": "ipython",
    "version": 3
   },
   "file_extension": ".py",
   "mimetype": "text/x-python",
   "name": "python",
   "nbconvert_exporter": "python",
   "pygments_lexer": "ipython3",
   "version": "3.11.7"
  }
 },
 "nbformat": 4,
 "nbformat_minor": 5
}
