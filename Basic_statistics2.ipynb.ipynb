{
 "cells": [
  {
   "cell_type": "markdown",
   "id": "39651d4a-521f-4fde-ae25-5825189641db",
   "metadata": {},
   "source": [
    "# 1. T-Test"
   ]
  },
  {
   "cell_type": "code",
   "execution_count": 1,
   "id": "cf4f8e4c-131f-4dbd-a89c-0efd048f0763",
   "metadata": {},
   "outputs": [],
   "source": [
    "# Import necessary libraries\n",
    "import numpy as np\n",
    "from scipy import stats"
   ]
  },
  {
   "cell_type": "code",
   "execution_count": 2,
   "id": "c8def50c-63ff-4811-8ffc-96884739809f",
   "metadata": {},
   "outputs": [],
   "source": [
    "# Given student scores\n",
    "data = np.array([1.13, 1.55, 1.43, 0.92, 1.25, 1.36, 1.32, 0.85, 1.07, 1.48, 1.20, 1.33, 1.18, 1.22, 1.29])"
   ]
  },
  {
   "cell_type": "code",
   "execution_count": 6,
   "id": "fcff51c5-70d1-457d-ba0c-fcd4f3f2bbc8",
   "metadata": {},
   "outputs": [
    {
     "name": "stdout",
     "output_type": "stream",
     "text": [
      "Defaulting to user installation because normal site-packages is not writeableNote: you may need to restart the kernel to use updated packages.\n",
      "\n",
      "Requirement already satisfied: pandas in c:\\users\\phani sri\\appdata\\roaming\\python\\python311\\site-packages (1.5.3)\n",
      "Requirement already satisfied: python-dateutil>=2.8.1 in c:\\programdata\\anaconda3\\lib\\site-packages (from pandas) (2.8.2)\n",
      "Requirement already satisfied: pytz>=2020.1 in c:\\programdata\\anaconda3\\lib\\site-packages (from pandas) (2023.3.post1)\n",
      "Requirement already satisfied: numpy>=1.21.0 in c:\\programdata\\anaconda3\\lib\\site-packages (from pandas) (1.26.4)\n",
      "Requirement already satisfied: six>=1.5 in c:\\programdata\\anaconda3\\lib\\site-packages (from python-dateutil>=2.8.1->pandas) (1.16.0)\n"
     ]
    }
   ],
   "source": [
    "pip install pandas"
   ]
  },
  {
   "cell_type": "code",
   "execution_count": 10,
   "id": "a969dc7b-1cc8-490c-8c73-20833326ac99",
   "metadata": {},
   "outputs": [
    {
     "name": "stdout",
     "output_type": "stream",
     "text": [
      "    Values\n",
      "0     1.13\n",
      "1     1.55\n",
      "2     1.43\n",
      "3     0.92\n",
      "4     1.25\n",
      "5     1.36\n",
      "6     1.32\n",
      "7     0.85\n",
      "8     1.07\n",
      "9     1.48\n",
      "10    1.20\n",
      "11    1.33\n",
      "12    1.18\n",
      "13    1.22\n",
      "14    1.29\n"
     ]
    }
   ],
   "source": [
    "import pandas as pd \n",
    "# Hypothesized population mean\n",
    "df = pd.DataFrame(data)\n",
    "df\n",
    "\n",
    "# Hypothesized population mean\n",
    "df = pd.DataFrame(data)\n",
    "df\n",
    "col_names = ['Values']\n",
    "df.columns = col_names\n",
    "print(df)\n"
   ]
  },
  {
   "cell_type": "code",
   "execution_count": 11,
   "id": "d0a9a46d-6547-41de-8996-42d4a65aa9bf",
   "metadata": {},
   "outputs": [
    {
     "data": {
      "text/plain": [
       "1.2386666666666666"
      ]
     },
     "execution_count": 11,
     "metadata": {},
     "output_type": "execute_result"
    }
   ],
   "source": [
    "mu=df['Values'].mean()\n",
    "mu"
   ]
  },
  {
   "cell_type": "code",
   "execution_count": 12,
   "id": "6ed6da15-074b-4fc1-9165-f20720bcef41",
   "metadata": {},
   "outputs": [
    {
     "name": "stdout",
     "output_type": "stream",
     "text": [
      "T statistic: 0.0\n",
      "P-value: 1.0\n"
     ]
    }
   ],
   "source": [
    "# Perform one-sample t-test\n",
    "tstat, pvalue = stats.ttest_1samp(df['Values'], mu)\n",
    "print(\"T statistic:\", tstat)\n",
    "print(\"P-value:\", pvalue)"
   ]
  },
  {
   "cell_type": "code",
   "execution_count": 13,
   "id": "915c5f63-2f21-4e3d-913f-e0f0031382c3",
   "metadata": {},
   "outputs": [
    {
     "name": "stdout",
     "output_type": "stream",
     "text": [
      "H1 is rejected and H0 is accepted\n"
     ]
    }
   ],
   "source": [
    "alpha = 0.01\n",
    "if pvalue < alpha:\n",
    "    print(\"H0 is rejected and H1 is accepted\")\n",
    "else:\n",
    "    print(\"H1 is rejected and H0 is accepted\")"
   ]
  },
  {
   "cell_type": "markdown",
   "id": "a210dbde-d439-4c9f-945c-45045246597f",
   "metadata": {},
   "source": [
    "# Z Test "
   ]
  },
  {
   "cell_type": "code",
   "execution_count": 14,
   "id": "7faa9ea0-aeb3-4314-8837-502a24f8ec58",
   "metadata": {},
   "outputs": [],
   "source": [
    "from scipy.stats import binom\n",
    "from scipy.stats import norm\n",
    "import numpy as np\n",
    "import pandas as pd\n",
    "from scipy import stats\n",
    "from statsmodels.stats import weightstats as ztests"
   ]
  },
  {
   "cell_type": "code",
   "execution_count": 15,
   "id": "5f6769cd-5ed2-42fb-bfdd-1e36b4479be6",
   "metadata": {},
   "outputs": [],
   "source": [
    "# Given student scores\n",
    "data = np.array([1.13, 1.55, 1.43, 0.92, 1.25, 1.36, 1.32, 0.85, 1.07, 1.48, 1.20, 1.33, 1.18, 1.22, 1.29])"
   ]
  },
  {
   "cell_type": "code",
   "execution_count": 16,
   "id": "6dbc457b-8926-4145-bd84-630ae21576d9",
   "metadata": {},
   "outputs": [
    {
     "name": "stdout",
     "output_type": "stream",
     "text": [
      "    Values\n",
      "0     1.13\n",
      "1     1.55\n",
      "2     1.43\n",
      "3     0.92\n",
      "4     1.25\n",
      "5     1.36\n",
      "6     1.32\n",
      "7     0.85\n",
      "8     1.07\n",
      "9     1.48\n",
      "10    1.20\n",
      "11    1.33\n",
      "12    1.18\n",
      "13    1.22\n",
      "14    1.29\n"
     ]
    }
   ],
   "source": [
    "# Hypothesized population mean\n",
    "df = pd.DataFrame(data)\n",
    "df\n",
    "\n",
    "# Hypothesized population mean\n",
    "df = pd.DataFrame(data)\n",
    "df\n",
    "col_names = ['Values']\n",
    "df.columns = col_names\n",
    "print(df)"
   ]
  },
  {
   "cell_type": "code",
   "execution_count": 17,
   "id": "e1ca168b-bb7a-42db-8056-e7514136aba1",
   "metadata": {},
   "outputs": [
    {
     "name": "stdout",
     "output_type": "stream",
     "text": [
      "1.2386666666666666\n"
     ]
    }
   ],
   "source": [
    "mu=df['Values'].mean()\n",
    "print(mu)\n",
    "\n",
    "zcalc,pvalue = ztests.ztest(df['Values'],value = 1,alternative = 'smaller')"
   ]
  },
  {
   "cell_type": "code",
   "execution_count": 18,
   "id": "2609fec5-36a4-4f54-9605-699f3688806a",
   "metadata": {},
   "outputs": [
    {
     "name": "stdout",
     "output_type": "stream",
     "text": [
      "Z calculated value : 4.785319237864924\n",
      "P value : 0.9999991464211515\n"
     ]
    }
   ],
   "source": [
    "print(\"Z calculated value :\",zcalc)\n",
    "print(\"P value :\",pvalue)"
   ]
  },
  {
   "cell_type": "code",
   "execution_count": null,
   "id": "da0cf210-f79d-4cbe-9914-81766dd844d0",
   "metadata": {},
   "outputs": [],
   "source": [
    "alpha = 0.01\n",
    "if pvalue < alpha:\n",
    "    print(\"H0 is rejected and H1 is accepted\")\n",
    "else:\n",
    "    print(\"H1 is rejected and H0 is accepted\")"
   ]
  }
 ],
 "metadata": {
  "kernelspec": {
   "display_name": "Python 3 (ipykernel)",
   "language": "python",
   "name": "python3"
  },
  "language_info": {
   "codemirror_mode": {
    "name": "ipython",
    "version": 3
   },
   "file_extension": ".py",
   "mimetype": "text/x-python",
   "name": "python",
   "nbconvert_exporter": "python",
   "pygments_lexer": "ipython3",
   "version": "3.11.7"
  }
 },
 "nbformat": 4,
 "nbformat_minor": 5
}
