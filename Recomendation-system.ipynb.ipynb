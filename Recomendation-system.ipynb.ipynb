{
 "cells": [
  {
   "cell_type": "markdown",
   "id": "b9e181a1-1dc9-4b14-be5b-ca586e47658c",
   "metadata": {},
   "source": [
    "# Recomendation system"
   ]
  },
  {
   "cell_type": "code",
   "execution_count": 1,
   "id": "11085041-90a1-46eb-9165-f070e01b3aa2",
   "metadata": {},
   "outputs": [],
   "source": [
    "import pandas as pd\n",
    "from sklearn.metrics.pairwise import cosine_similarity\n",
    "from sklearn.model_selection import train_test_split\n",
    "from sklearn.preprocessing import MultiLabelBinarizer, StandardScaler"
   ]
  },
  {
   "cell_type": "code",
   "execution_count": 20,
   "id": "5f4ab90e-29d4-408d-a97f-b22852c55eb3",
   "metadata": {},
   "outputs": [
    {
     "data": {
      "text/html": [
       "<div>\n",
       "<style scoped>\n",
       "    .dataframe tbody tr th:only-of-type {\n",
       "        vertical-align: middle;\n",
       "    }\n",
       "\n",
       "    .dataframe tbody tr th {\n",
       "        vertical-align: top;\n",
       "    }\n",
       "\n",
       "    .dataframe thead th {\n",
       "        text-align: right;\n",
       "    }\n",
       "</style>\n",
       "<table border=\"1\" class=\"dataframe\">\n",
       "  <thead>\n",
       "    <tr style=\"text-align: right;\">\n",
       "      <th></th>\n",
       "      <th>anime_id</th>\n",
       "      <th>name</th>\n",
       "      <th>genre</th>\n",
       "      <th>type</th>\n",
       "      <th>episodes</th>\n",
       "      <th>rating</th>\n",
       "      <th>members</th>\n",
       "    </tr>\n",
       "  </thead>\n",
       "  <tbody>\n",
       "    <tr>\n",
       "      <th>0</th>\n",
       "      <td>32281</td>\n",
       "      <td>Kimi no Na wa.</td>\n",
       "      <td>Drama, Romance, School, Supernatural</td>\n",
       "      <td>Movie</td>\n",
       "      <td>1</td>\n",
       "      <td>9.37</td>\n",
       "      <td>200630</td>\n",
       "    </tr>\n",
       "    <tr>\n",
       "      <th>1</th>\n",
       "      <td>5114</td>\n",
       "      <td>Fullmetal Alchemist: Brotherhood</td>\n",
       "      <td>Action, Adventure, Drama, Fantasy, Magic, Mili...</td>\n",
       "      <td>TV</td>\n",
       "      <td>64</td>\n",
       "      <td>9.26</td>\n",
       "      <td>793665</td>\n",
       "    </tr>\n",
       "    <tr>\n",
       "      <th>2</th>\n",
       "      <td>28977</td>\n",
       "      <td>Gintama°</td>\n",
       "      <td>Action, Comedy, Historical, Parody, Samurai, S...</td>\n",
       "      <td>TV</td>\n",
       "      <td>51</td>\n",
       "      <td>9.25</td>\n",
       "      <td>114262</td>\n",
       "    </tr>\n",
       "    <tr>\n",
       "      <th>3</th>\n",
       "      <td>9253</td>\n",
       "      <td>Steins;Gate</td>\n",
       "      <td>Sci-Fi, Thriller</td>\n",
       "      <td>TV</td>\n",
       "      <td>24</td>\n",
       "      <td>9.17</td>\n",
       "      <td>673572</td>\n",
       "    </tr>\n",
       "    <tr>\n",
       "      <th>4</th>\n",
       "      <td>9969</td>\n",
       "      <td>Gintama&amp;#039;</td>\n",
       "      <td>Action, Comedy, Historical, Parody, Samurai, S...</td>\n",
       "      <td>TV</td>\n",
       "      <td>51</td>\n",
       "      <td>9.16</td>\n",
       "      <td>151266</td>\n",
       "    </tr>\n",
       "  </tbody>\n",
       "</table>\n",
       "</div>"
      ],
      "text/plain": [
       "   anime_id                              name  \\\n",
       "0     32281                    Kimi no Na wa.   \n",
       "1      5114  Fullmetal Alchemist: Brotherhood   \n",
       "2     28977                          Gintama°   \n",
       "3      9253                       Steins;Gate   \n",
       "4      9969                     Gintama&#039;   \n",
       "\n",
       "                                               genre   type episodes  rating  \\\n",
       "0               Drama, Romance, School, Supernatural  Movie        1    9.37   \n",
       "1  Action, Adventure, Drama, Fantasy, Magic, Mili...     TV       64    9.26   \n",
       "2  Action, Comedy, Historical, Parody, Samurai, S...     TV       51    9.25   \n",
       "3                                   Sci-Fi, Thriller     TV       24    9.17   \n",
       "4  Action, Comedy, Historical, Parody, Samurai, S...     TV       51    9.16   \n",
       "\n",
       "   members  \n",
       "0   200630  \n",
       "1   793665  \n",
       "2   114262  \n",
       "3   673572  \n",
       "4   151266  "
      ]
     },
     "execution_count": 20,
     "metadata": {},
     "output_type": "execute_result"
    }
   ],
   "source": [
    "# Load the dataset\n",
    "anime = pd.read_csv('C:\\\\db\\\\anime.csv')\n",
    "anime.head()"
   ]
  },
  {
   "cell_type": "markdown",
   "id": "22d8110f-3942-451d-b5e9-7fe7df1ac2ad",
   "metadata": {},
   "source": [
    "# Handle missing values"
   ]
  },
  {
   "cell_type": "code",
   "execution_count": 15,
   "id": "5cee1c80-b18e-47f7-b0d5-d64b08717a6f",
   "metadata": {},
   "outputs": [],
   "source": [
    "anime.fillna({'genre': '', 'rating': anime['rating'].mean(), 'episodes': 0}, inplace=True)"
   ]
  },
  {
   "cell_type": "markdown",
   "id": "8b6322c1-8dba-4e57-9f6e-769170771ef1",
   "metadata": {},
   "source": [
    "# Feature Extraction"
   ]
  },
  {
   "cell_type": "code",
   "execution_count": 17,
   "id": "06ab9945-7aed-416c-b7f3-01d59de06135",
   "metadata": {},
   "outputs": [],
   "source": [
    "# Normalize numerical features\n",
    "scaler = StandardScaler()\n",
    "anime['rating'] = scaler.fit_transform(anime[['rating']])"
   ]
  },
  {
   "cell_type": "code",
   "execution_count": 18,
   "id": "1022c153-48a4-491a-8f41-5082d35d09f1",
   "metadata": {},
   "outputs": [],
   "source": [
    "# Combine features\n",
    "features = pd.concat([genre_df, anime[['rating']]], axis=1)"
   ]
  },
  {
   "cell_type": "code",
   "execution_count": null,
   "id": "6647981b-d69b-439f-a789-f4c5ce428492",
   "metadata": {},
   "outputs": [],
   "source": [
    "# Convert 'genre' to numerical representation using one-hot encoding\n",
    "mlb = MultiLabelBinarizer()\n",
    "anime['genre'] = anime['genre'].apply(lambda x: x.split(', ') if x else [])\n",
    "genre_encoded = mlb.fit_transform(anime['genre'])\n",
    "genre_df = pd.DataFrame(genre_encoded, columns=mlb.classes_)"
   ]
  },
  {
   "cell_type": "code",
   "execution_count": null,
   "id": "d2201f67-94b1-45c2-a09a-2ab38733781c",
   "metadata": {},
   "outputs": [],
   "source": [
    "# Normalize numerical features\n",
    "scaler = StandardScaler()\n",
    "anime['rating'] = scaler.fit_transform(anime[['rating']])"
   ]
  },
  {
   "cell_type": "code",
   "execution_count": null,
   "id": "fe8bf7ab-5945-4920-8779-4c0ba9cb64e1",
   "metadata": {},
   "outputs": [],
   "source": [
    "# Combine features\n",
    "features = pd.concat([genre_df, anime[['rating']]], axis=1)"
   ]
  },
  {
   "cell_type": "code",
   "execution_count": null,
   "id": "ad9176ce-3996-4b36-b803-a684ed878a19",
   "metadata": {},
   "outputs": [],
   "source": [
    "# Compute cosine similarity on training set\n",
    "train_features = features.loc[train.index]\n",
    "cos_sim = cosine_similarity(train_features)\n",
    "\n",
    "# Recommendation function based on cosine similarity\n",
    "def recommend_anime(anime_id, df=train, features=train_features, cosine_sim=cos_sim, top_n=10):\n",
    "    idx = df.index[df['anime_id'] == anime_id].tolist()[0]\n",
    "    sim_scores = list(enumerate(cosine_sim[idx]))\n",
    "    sim_scores = sorted(sim_scores, key=lambda x: x[1], reverse=True)\n",
    "    sim_scores = sim_scores[1:top_n+1]\n",
    "    anime_indices = [i[0] for i in sim_scores]\n",
    "    return df.iloc[anime_indices]"
   ]
  },
  {
   "cell_type": "code",
   "execution_count": null,
   "id": "da6a6e7c-2cef-46dd-87a6-4f8851b2b774",
   "metadata": {},
   "outputs": [],
   "source": [
    "\"\"\"# Evaluation\n",
    "train, test = train_test_split(anime, test_size=0.2, random_state=42)\n",
    "def recommend_anime(anime_id, cosine_sim=cos_sim, df=anime, top_n=10):\n",
    "    idx = df.index[df['anime_id'] == anime_id].tolist()[0]\n",
    "    sim_scores = list(enumerate(cosine_sim[idx]))\n",
    "    sim_scores = sorted(sim_scores, key=lambda x: x[1], reverse=True)\n",
    "    sim_scores = sim_scores[1:top_n+1]\n",
    "    anime_indices = [i[0] for i in sim_scores]\n",
    "    return df[['anime_id', 'name']].iloc[anime_indices]\n",
    "\"\"\"\n",
    "def recommend_anime(anime_id, cosine_sim=cos_sim, df=anime, top_n=10):\n",
    "    if anime_id not in df['anime_id'].values:\n",
    "        return pd.DataFrame()  # Return empty DataFrame if anime_id not in training set\n",
    "    \n",
    "    idx = df.index[df['anime_id'] == anime_id].tolist()[0]\n",
    "    sim_scores = list(enumerate(cosine_sim[idx]))\n",
    "    sim_scores = sorted(sim_scores, key=lambda x: x[1], reverse=True)\n",
    "    sim_scores = sim_scores[1:top_n+1]\n",
    "    anime_indices = [i[0] for i in sim_scores]\n",
    "    return df[['anime_id', 'name']].iloc[anime_indices]"
   ]
  },
  {
   "cell_type": "code",
   "execution_count": null,
   "id": "b1796ddf-1a74-4a43-950e-2658ce03bb17",
   "metadata": {},
   "outputs": [],
   "source": [
    "# Example Recommendation\n",
    "recommended_anime = recommend_anime(anime_id=9963, top_n=10)\n",
    "print(recommended_anime)"
   ]
  },
  {
   "cell_type": "code",
   "execution_count": 24,
   "id": "17ac5d20-63ff-4a03-8b7f-061f16545efe",
   "metadata": {},
   "outputs": [
    {
     "name": "stdout",
     "output_type": "stream",
     "text": [
      "Precision: 1.00\n",
      "Recall: 1.00\n",
      "F1-Score: 1.00\n"
     ]
    }
   ],
   "source": [
    "# Split dataset into training and testing sets\n",
    "train, test = train_test_split(anime, test_size=0.2, random_state=42)\n",
    "\n",
    "# Initialize lists to store ground truth and predictions\n",
    "ground_truth = []\n",
    "predictions = []\n",
    "\n",
    "# Mean rating to determine relevance\n",
    "mean_rating = train['rating'].mean()\n",
    "\n",
    "for _, row in test.iterrows():\n",
    "    anime_id = row['anime_id']\n",
    "    \n",
    "    # Skip anime not present in the training set\n",
    "    if anime_id not in train['anime_id'].values:\n",
    "        continue\n",
    "    \n",
    "    recommended_anime = recommend_anime(anime_id, top_n=10)\n",
    "    \n",
    "    if recommended_anime.empty:\n",
    "        continue\n",
    "    \n",
    "    actual_ratings = test[test['anime_id'].isin(recommended_anime['anime_id'])]['rating']\n",
    "    true_relevant = (actual_ratings > mean_rating).astype(int).tolist()\n",
    "    \n",
    "    ground_truth.extend(true_relevant)\n",
    "    predictions.extend([1] * len(true_relevant))\n",
    "\n",
    "# Include non-relevant predictions to avoid all 1s in predictions\n",
    "if not predictions:\n",
    "    predictions = [0]\n",
    "\n",
    "# Include non-relevant items in ground truth to avoid all 1s\n",
    "if not ground_truth:\n",
    "    ground_truth = [0]\n",
    "\n",
    "# Compute precision, recall, and F1-score\n",
    "\n",
    "from sklearn.metrics import precision_score, recall_score, f1_score\n",
    "precision = precision_score(ground_truth, predictions, average='macro', zero_division=0)\n",
    "recall = recall_score(ground_truth, predictions, average='macro', zero_division=0)\n",
    "f1 = f1_score(ground_truth, predictions, average='macro', zero_division=0)\n",
    "\n",
    "print(f'Precision: {precision:.2f}')\n",
    "print(f'Recall: {recall:.2f}')\n",
    "print(f'F1-Score: {f1:.2f}')"
   ]
  },
  {
   "cell_type": "code",
   "execution_count": null,
   "id": "54c6bf5c-c634-4bce-afe6-125d9cf26913",
   "metadata": {},
   "outputs": [],
   "source": [
    "1. Difference Between User-Based and Item-Based Collaborative Filtering\n",
    "User-Based Collaborative Filtering:\n",
    "\n",
    "Concept: This approach recommends items to a user based on the preferences of other users who have similar tastes.\n",
    "Process:\n",
    "Identify Similar Users: Calculate the similarity between users using measures like cosine similarity, Pearson correlation, or Euclidean distance based on their ratings of items.\n",
    "Find Neighbors: Select a subset of users (neighbors) who are most similar to the target user.\n",
    "Aggregate Preferences: Aggregate the ratings of these neighbors to generate recommendations. This can involve taking a weighted average of the neighbors' ratings for items the target user hasn't rated.\n",
    "Example: If User A and User B both like item X and User A also likes item Y, then item Y might be recommended to User B.\n",
    "Item-Based Collaborative Filtering:\n",
    "\n",
    "Concept: This approach recommends items to a user based on the similarity between items.\n",
    "Process:\n",
    "Identify Similar Items: Calculate the similarity between items using measures like cosine similarity, Pearson correlation, or adjusted cosine similarity based on the ratings given by users.\n",
    "Build Item Profiles: Create a profile for each item based on the ratings it has received from all users.\n",
    "Generate Recommendations: For a target user, look at the items they have rated highly and recommend similar items they haven't rated yet.\n",
    "Example: If many users who liked item X also liked item Y, then item Y might be recommended to a user who liked item X."
   ]
  },
  {
   "cell_type": "code",
   "execution_count": null,
   "id": "bc091a89-8fa3-4420-8e15-6f30af27fad3",
   "metadata": {},
   "outputs": [],
   "source": [
    "2. What is Collaborative Filtering, and How Does It Work?\n",
    "Collaborative Filtering: Collaborative filtering is a technique used in recommendation systems to predict the preferences of a user by collecting preferences from many users. The underlying assumption is that if users agreed in the past, they will agree in the future, and that users' preferences are related to those of others.\n",
    "\n",
    "How It Works:\n",
    "\n",
    "Data Collection:\n",
    "\n",
    "Gather user-item interaction data, which can be explicit (e.g., ratings, likes) or implicit (e.g., clicks, purchase history).\n",
    "Similarity Computation:\n",
    "\n",
    "Calculate the similarity between users or items. Common similarity measures include:\n",
    "Cosine Similarity: Measures the cosine of the angle between two vectors of ratings.\n",
    "Pearson Correlation: Measures the linear correlation between two sets of ratings.\n",
    "Jaccard Similarity: Measures the similarity between two sets of binary data.\n",
    "Neighborhood Selection:\n",
    "\n",
    "Identify a set of similar users (user-based) or items (item-based) to form a neighborhood.\n",
    "Prediction Generation:\n",
    "\n",
    "Aggregate the preferences of the neighbors to predict the rating for an unrated item. This can be done using methods like weighted average, where weights are the similarity scores.\n",
    "User-Based Prediction: Predict the rating of user ( u ) for item ( i ) by looking at ratings of similar users for item ( i ).\n",
    "Item-Based Prediction: Predict the rating of user ( u ) for item ( i ) by looking at user's ratings for similar items to ( i ).\n",
    "Recommendation:\n",
    "\n",
    "Recommend items with the highest predicted ratings or those that the user is most likely to interact with.\n",
    "Applications:\n",
    "\n",
    "Online retail (e.g., recommending products on Amazon)\n",
    "Streaming services (e.g., movie recommendations on Netflix)\n",
    "Social media (e.g., suggesting friends or content on Facebook)"
   ]
  }
 ],
 "metadata": {
  "kernelspec": {
   "display_name": "Python 3 (ipykernel)",
   "language": "python",
   "name": "python3"
  },
  "language_info": {
   "codemirror_mode": {
    "name": "ipython",
    "version": 3
   },
   "file_extension": ".py",
   "mimetype": "text/x-python",
   "name": "python",
   "nbconvert_exporter": "python",
   "pygments_lexer": "ipython3",
   "version": "3.11.7"
  }
 },
 "nbformat": 4,
 "nbformat_minor": 5
}
